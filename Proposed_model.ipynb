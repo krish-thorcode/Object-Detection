{
  "nbformat": 4,
  "nbformat_minor": 0,
  "metadata": {
    "colab": {
      "name": "Proposed_model.ipynb",
      "version": "0.3.2",
      "provenance": [],
      "collapsed_sections": [],
      "toc_visible": true
    },
    "kernelspec": {
      "name": "python3",
      "display_name": "Python 3"
    },
    "accelerator": "GPU"
  },
  "cells": [
    {
      "metadata": {
        "id": "ESVsNQmH6IU2",
        "colab_type": "code",
        "outputId": "4b2e5ddc-c05c-4694-e18f-5c810d136ab3",
        "colab": {
          "base_uri": "https://localhost:8080/",
          "height": 122
        }
      },
      "cell_type": "code",
      "source": [
        "from google.colab import drive\n",
        "drive.mount('/content/mydrive/')"
      ],
      "execution_count": 0,
      "outputs": [
        {
          "output_type": "stream",
          "text": [
            "Go to this URL in a browser: https://accounts.google.com/o/oauth2/auth?client_id=947318989803-6bn6qk8qdgf4n4g3pfee6491hc0brc4i.apps.googleusercontent.com&redirect_uri=urn%3Aietf%3Awg%3Aoauth%3A2.0%3Aoob&scope=email%20https%3A%2F%2Fwww.googleapis.com%2Fauth%2Fdocs.test%20https%3A%2F%2Fwww.googleapis.com%2Fauth%2Fdrive%20https%3A%2F%2Fwww.googleapis.com%2Fauth%2Fdrive.photos.readonly%20https%3A%2F%2Fwww.googleapis.com%2Fauth%2Fpeopleapi.readonly&response_type=code\n",
            "\n",
            "Enter your authorization code:\n",
            "··········\n",
            "Mounted at /content/mydrive/\n"
          ],
          "name": "stdout"
        }
      ]
    },
    {
      "metadata": {
        "id": "h5P_ExGU-hL7",
        "colab_type": "text"
      },
      "cell_type": "markdown",
      "source": [
        "## Import modules"
      ]
    },
    {
      "metadata": {
        "id": "xz5BvrD4-hMM",
        "colab_type": "text"
      },
      "cell_type": "markdown",
      "source": [
        "## Importing the dataset from keras\n",
        "### Keras includes special support for loading some of the benchmark datasets. One is the CIFAR-10 dataset"
      ]
    },
    {
      "metadata": {
        "id": "8Nh71kAF-hMA",
        "colab_type": "code",
        "outputId": "8fbdb253-6499-4211-aa88-e74d5e810e03",
        "colab": {
          "base_uri": "https://localhost:8080/",
          "height": 85
        }
      },
      "cell_type": "code",
      "source": [
        "import sys\n",
        "from keras.utils import np_utils\n",
        "import matplotlib.pyplot as plt\n",
        "import numpy as np\n",
        "from PIL import Image\n",
        "from keras.models import load_model\n",
        "from keras import optimizers\n",
        "\n",
        "print('Python ' + sys.version)\n",
        "print('numpy: ' + np.__version__)"
      ],
      "execution_count": 0,
      "outputs": [
        {
          "output_type": "stream",
          "text": [
            "Using TensorFlow backend.\n"
          ],
          "name": "stderr"
        },
        {
          "output_type": "stream",
          "text": [
            "Python 3.6.7 (default, Oct 22 2018, 11:32:17) \n",
            "[GCC 8.2.0]\n",
            "numpy: 1.14.6\n"
          ],
          "name": "stdout"
        }
      ]
    },
    {
      "metadata": {
        "id": "dxRWWJwA-syJ",
        "colab_type": "code",
        "outputId": "c445f0ac-e8b0-48f1-abfe-ad6f9d822cb8",
        "colab": {
          "base_uri": "https://localhost:8080/",
          "height": 34
        }
      },
      "cell_type": "code",
      "source": [
        "from keras import backend as K\n",
        "K.tensorflow_backend._get_available_gpus()"
      ],
      "execution_count": 0,
      "outputs": [
        {
          "output_type": "execute_result",
          "data": {
            "text/plain": [
              "['/job:localhost/replica:0/task:0/device:GPU:0']"
            ]
          },
          "metadata": {
            "tags": []
          },
          "execution_count": 4
        }
      ]
    },
    {
      "metadata": {
        "id": "7tNJjvux-hMO",
        "colab_type": "code",
        "colab": {}
      },
      "cell_type": "code",
      "source": [
        "from keras.datasets import cifar10"
      ],
      "execution_count": 0,
      "outputs": []
    },
    {
      "metadata": {
        "id": "OLZ1Nx5g-hMR",
        "colab_type": "text"
      },
      "cell_type": "markdown",
      "source": [
        "## Load the dataset"
      ]
    },
    {
      "metadata": {
        "id": "8TRMO-At-hMT",
        "colab_type": "text"
      },
      "cell_type": "markdown",
      "source": [
        "#### If you never had used CIFAR-10 before with keras, it will download the dataset first. The next time you resort to using the dataset again, it will use the downloaded copy."
      ]
    },
    {
      "metadata": {
        "id": "kfkI76f2-hMU",
        "colab_type": "code",
        "outputId": "03435503-37a8-46cc-ccf9-061e88133069",
        "colab": {
          "base_uri": "https://localhost:8080/",
          "height": 51
        }
      },
      "cell_type": "code",
      "source": [
        "(X_train, y_train), (X_test, y_test) = cifar10.load_data()"
      ],
      "execution_count": 0,
      "outputs": [
        {
          "output_type": "stream",
          "text": [
            "Downloading data from https://www.cs.toronto.edu/~kriz/cifar-10-python.tar.gz\n",
            "170500096/170498071 [==============================] - 34s 0us/step\n"
          ],
          "name": "stdout"
        }
      ]
    },
    {
      "metadata": {
        "id": "R9gIUv6b-hMZ",
        "colab_type": "code",
        "outputId": "0ab41e89-c4e3-4e5b-86c7-9754c2d40032",
        "colab": {
          "base_uri": "https://localhost:8080/",
          "height": 34
        }
      },
      "cell_type": "code",
      "source": [
        "type(X_train)"
      ],
      "execution_count": 0,
      "outputs": [
        {
          "output_type": "execute_result",
          "data": {
            "text/plain": [
              "numpy.ndarray"
            ]
          },
          "metadata": {
            "tags": []
          },
          "execution_count": 7
        }
      ]
    },
    {
      "metadata": {
        "id": "1zi8cmwI-hMe",
        "colab_type": "code",
        "outputId": "605f56d1-4301-4711-c1b1-13ddaf158a60",
        "colab": {
          "base_uri": "https://localhost:8080/",
          "height": 34
        }
      },
      "cell_type": "code",
      "source": [
        "X_train.shape"
      ],
      "execution_count": 0,
      "outputs": [
        {
          "output_type": "execute_result",
          "data": {
            "text/plain": [
              "(50000, 32, 32, 3)"
            ]
          },
          "metadata": {
            "tags": []
          },
          "execution_count": 8
        }
      ]
    },
    {
      "metadata": {
        "id": "Nw3hG5uT-hMj",
        "colab_type": "code",
        "outputId": "6c8e877c-ae04-4d95-8592-f9b3f87f360b",
        "colab": {
          "base_uri": "https://localhost:8080/",
          "height": 34
        }
      },
      "cell_type": "code",
      "source": [
        "y_train.shape"
      ],
      "execution_count": 0,
      "outputs": [
        {
          "output_type": "execute_result",
          "data": {
            "text/plain": [
              "(50000, 1)"
            ]
          },
          "metadata": {
            "tags": []
          },
          "execution_count": 9
        }
      ]
    },
    {
      "metadata": {
        "id": "xEj3fUM--hMm",
        "colab_type": "code",
        "outputId": "c0348d36-68f0-47af-c7cb-2c3787a82c10",
        "colab": {
          "base_uri": "https://localhost:8080/",
          "height": 34
        }
      },
      "cell_type": "code",
      "source": [
        "X_test.shape"
      ],
      "execution_count": 0,
      "outputs": [
        {
          "output_type": "execute_result",
          "data": {
            "text/plain": [
              "(10000, 32, 32, 3)"
            ]
          },
          "metadata": {
            "tags": []
          },
          "execution_count": 10
        }
      ]
    },
    {
      "metadata": {
        "id": "BEIyXPQb-hMr",
        "colab_type": "code",
        "outputId": "07e33996-861f-40b1-9168-084dde7ab502",
        "colab": {
          "base_uri": "https://localhost:8080/",
          "height": 34
        }
      },
      "cell_type": "code",
      "source": [
        "y_test.shape"
      ],
      "execution_count": 0,
      "outputs": [
        {
          "output_type": "execute_result",
          "data": {
            "text/plain": [
              "(10000, 1)"
            ]
          },
          "metadata": {
            "tags": []
          },
          "execution_count": 11
        }
      ]
    },
    {
      "metadata": {
        "id": "BvmEqskm-hMv",
        "colab_type": "text"
      },
      "cell_type": "markdown",
      "source": [
        "## Visualising the dataset\n",
        "#### Displaying the first 9 images"
      ]
    },
    {
      "metadata": {
        "id": "8geSicBh-hMw",
        "colab_type": "code",
        "outputId": "59ba64ff-ac2f-448f-890c-fdc70e097d28",
        "colab": {
          "base_uri": "https://localhost:8080/",
          "height": 350
        }
      },
      "cell_type": "code",
      "source": [
        "for i in range(0, 9):\n",
        "    plt.subplot(3, 3, 1+i)\n",
        "    plt.imshow(X_train[i])\n",
        "plt.show()"
      ],
      "execution_count": 0,
      "outputs": [
        {
          "output_type": "display_data",
          "data": {
            "image/png": "[encoded data removed]",
            "text/plain": [
              "<Figure size 576x396 with 9 Axes>"
            ]
          },
          "metadata": {
            "tags": []
          }
        }
      ]
    },
    {
      "metadata": {
        "id": "YZ3qPbwM-hMz",
        "colab_type": "text"
      },
      "cell_type": "markdown",
      "source": [
        "# Data Preprocessing"
      ]
    },
    {
      "metadata": {
        "id": "q4774tLG-hM0",
        "colab_type": "text"
      },
      "cell_type": "markdown",
      "source": [
        "## Feature scaling is a must in Deep Learning networks\n",
        "#### Scaling the dataset features to have values between 0 and 1"
      ]
    },
    {
      "metadata": {
        "id": "0a2zV23--hM1",
        "colab_type": "code",
        "colab": {}
      },
      "cell_type": "code",
      "source": [
        "# storing the 1st image before feature scaling so that it can be later\\\n",
        "# used for sanity checks\n",
        "X_train_0 = X_train[0]\n",
        "\n",
        "# Feature scaling\n",
        "X_train = X_train/255\n",
        "X_test = X_test/255"
      ],
      "execution_count": 0,
      "outputs": []
    },
    {
      "metadata": {
        "id": "jmV13JG3-hM3",
        "colab_type": "text"
      },
      "cell_type": "markdown",
      "source": [
        "## One-hot encoding \n",
        "The labels in the dataset are numerical values which inherently are ordinal. This ordinality can skew the weights, for eg, a label 6 will skew the weights of the ANN more towards itself than the other lower values, ie, 0, 1, 2, 3, 4... ANN's work in such a way that this happens and may not create a nice model. So we one-hot encode the labels into a vector of 0's and 1's. The length of each of such vector will be equal to the number of classes and each vector will have a 1 at only one position. For eg, if the categories are dog, cat and lizard, the one-hot encoding will have a vector for each example, each of such vector will be of length 3 (since number of classes = 3). If an example has label 'cat', then the one-hot encoded vector \"may be\" [1,0,0], if an example has label 'dog', the one-hot encoded vector \"may be\" [0,1,0] and for a 'lizard' it \"may be\" [0,0,1]. I have explicitly mentioned \"may be\" because the position of 1 in the vector for each category depends on the underlying implementation of the one-hot encoding done, ie, what I have mentioned is according to an implemention that assigns one-hot encoded vectors based on lexicographical order, other implementation may assign these vectors differently."
      ]
    },
    {
      "metadata": {
        "id": "1usZcW-f-hM4",
        "colab_type": "code",
        "colab": {}
      },
      "cell_type": "code",
      "source": [
        "y_train = np_utils.to_categorical(y_train)\n",
        "y_test = np_utils.to_categorical(y_test)"
      ],
      "execution_count": 0,
      "outputs": []
    },
    {
      "metadata": {
        "id": "-NVmdCIWSUM5",
        "colab_type": "code",
        "outputId": "361503a9-0ee8-4421-a84a-b74ec1a81565",
        "colab": {
          "base_uri": "https://localhost:8080/",
          "height": 34
        }
      },
      "cell_type": "code",
      "source": [
        "X_train_0.shape"
      ],
      "execution_count": 0,
      "outputs": [
        {
          "output_type": "execute_result",
          "data": {
            "text/plain": [
              "(32, 32, 3)"
            ]
          },
          "metadata": {
            "tags": []
          },
          "execution_count": 29
        }
      ]
    },
    {
      "metadata": {
        "id": "xdl8sx0T-hM6",
        "colab_type": "code",
        "outputId": "69730321-69ff-45e6-fef3-0162f4eae3cf",
        "colab": {
          "base_uri": "https://localhost:8080/",
          "height": 172
        }
      },
      "cell_type": "code",
      "source": [
        "print(y_train.shape)\n",
        "\n",
        "# printing one-hot encoded vector for 0th label (which is 6)\n",
        "print(y_train[0])\n",
        "\n",
        "# from cifar-10 dataset webpage, we can see that label 6 is for frog\n",
        "# checking if X_train[0] is a frog's image\n",
        "plt.subplot(3,3,1) # doing this to plot image in a smaller grid so that\\\n",
        "                # the 32x32 image looks a bit clearer\n",
        "plt.imshow(X_train_0)\n",
        "plt.show()"
      ],
      "execution_count": 0,
      "outputs": [
        {
          "output_type": "stream",
          "text": [
            "(50000, 10)\n",
            "[0. 0. 0. 0. 0. 0. 1. 0. 0. 0.]\n"
          ],
          "name": "stdout"
        },
        {
          "output_type": "display_data",
          "data": {
            "image/png": "[encoded data removed]",
            "text/plain": [
              "<Figure size 576x396 with 1 Axes>"
            ]
          },
          "metadata": {
            "tags": []
          }
        }
      ]
    },
    {
      "metadata": {
        "id": "EwwT-2fJ-hM_",
        "colab_type": "text"
      },
      "cell_type": "markdown",
      "source": [
        "##### It does look like a frog"
      ]
    },
    {
      "metadata": {
        "id": "knE5-Gx6-hNA",
        "colab_type": "text"
      },
      "cell_type": "markdown",
      "source": [
        "# Building the All-CNN model\n",
        "#### Reference used-  All-CNN paper (https://arxiv.org/abs/1412.6806)\n",
        "\n",
        "Model - C (taken from the paper, out of three models, this model performed the best)\n",
        "* Input 32 × 32 RGB image\n",
        "* 3 × 3 conv. 96 ReLU\n",
        "* 3 × 3 conv. 96 ReLU\n",
        "* 3 × 3 conv. 96 ReLU stride 2\n",
        "* 3 × 3 conv. 192 ReLU\n",
        "* 3 × 3 conv. 192 ReLU\n",
        "* 3 × 3 conv. 96 ReLU stride 2\n",
        "* 3 × 3 conv. 192 ReLU\n",
        "* 1 × 1 conv. 192 ReLU\n",
        "* 1 × 1 conv. 10 ReLU\n",
        "* global averaging over 6 × 6 spatial dimensions\n",
        "* 10 or 100-way softmax"
      ]
    },
    {
      "metadata": {
        "id": "Z0WX_7YZ-hNB",
        "colab_type": "text"
      },
      "cell_type": "markdown",
      "source": [
        "### Importing necessary libraries to build layers of the CNN"
      ]
    },
    {
      "metadata": {
        "id": "7E57jhD2-hND",
        "colab_type": "code",
        "colab": {}
      },
      "cell_type": "code",
      "source": [
        "from keras.models import Sequential\n",
        "from keras.layers import Dropout # used for regularisation to prevent overfitting which is common with ANNs\n",
        "from keras.layers import Convolution2D\n",
        "from keras.layers import GlobalAveragePooling2D\n",
        "from keras.layers import Activation"
      ],
      "execution_count": 0,
      "outputs": []
    },
    {
      "metadata": {
        "id": "SgnBVy5t-hNI",
        "colab_type": "text"
      },
      "cell_type": "markdown",
      "source": [
        "### Implement the All-CNN function"
      ]
    },
    {
      "metadata": {
        "id": "ebpkcgKd2moi",
        "colab_type": "code",
        "colab": {}
      },
      "cell_type": "code",
      "source": [
        "#### <font color='green'>Proposed Model</font>"
      ],
      "execution_count": 0,
      "outputs": []
    },
    {
      "metadata": {
        "id": "ug1yzgIC-hNJ",
        "colab_type": "code",
        "colab": {}
      },
      "cell_type": "code",
      "source": [
        "def proposed_model(weights = None):\n",
        "    # Initialising the ANN as a sequence of layers\n",
        "    classifier = Sequential()\n",
        "    \n",
        "    classifier.add(Convolution2D(96, (3, 3), input_shape = (32, 32, 3), padding = 'same', activation = 'relu'))\n",
        "    classifier.add(Convolution2D(96, (3, 3), activation = 'relu'))\n",
        "    classifier.add(Convolution2D(192, (3, 3), activation = 'relu', strides=2))\n",
        "    \n",
        "    classifier.add(Convolution2D(192, (3, 3), activation = 'relu'))\n",
        "    classifier.add(Convolution2D(192, (3, 3), activation = 'relu'))\n",
        "    classifier.add(Convolution2D(192, (3, 3), activation = 'relu', strides=2))\n",
        "    \n",
        "    classifier.add(Convolution2D(192, (3, 3), padding = 'same', activation = 'relu'))\n",
        "    \n",
        "    classifier.add(Convolution2D(192, (1, 1), padding = 'valid', activation = 'relu'))\n",
        "    \n",
        "    classifier.add(Convolution2D(10, (1, 1), padding = 'valid', activation = 'relu'))\n",
        "    \n",
        "    classifier.add(GlobalAveragePooling2D())\n",
        "    \n",
        "    classifier.add(Activation('softmax'))\n",
        "    \n",
        "    if weights:\n",
        "        classifier.load_weights(weights)\n",
        "    \n",
        "    return classifier\n",
        "    "
      ],
      "execution_count": 0,
      "outputs": []
    },
    {
      "metadata": {
        "id": "_AuuryHU-hNN",
        "colab_type": "code",
        "outputId": "60243bd9-9dff-4b86-c5c0-98ef0cc8f69a",
        "colab": {
          "base_uri": "https://localhost:8080/",
          "height": 139
        }
      },
      "cell_type": "code",
      "source": [
        "import os\n",
        "\n",
        "if(os.path.exists('/content/mydrive/My Drive/Colab Notebooks/MyClassifier_proposed.h5')):\n",
        "    classifier = load_model('/content/mydrive/My Drive/Colab Notebooks/MyClassifier_proposed.h5')\n",
        "\n",
        "else:\n",
        "    classifier = proposed_model()\n",
        "    # adam is a stochastic gradient descent algorithm\n",
        "    adam = optimizers.Adam(lr = 0.0001)\n",
        "    classifier.compile(optimizer = adam, loss = 'categorical_crossentropy', metrics = ['accuracy'])\n",
        "    print(classifier.summary())\n",
        "    \n",
        "    # not using the first raw as the validation set for fitting the model, this raw will be used to test the final\n",
        "    # model to check how well the model predicts\n",
        "    classifier.fit(X_train, y_train, validation_data = (X_test[1:], y_test[1:]), epochs = 100, batch_size = 32)\n",
        "    classifier.save('/content/mydrive/My Drive/Colab Notebooks/MyClassifier_proposed.h5')"
      ],
      "execution_count": 0,
      "outputs": [
        {
          "output_type": "stream",
          "text": [
            "WARNING:tensorflow:From /usr/local/lib/python3.6/dist-packages/tensorflow/python/framework/op_def_library.py:263: colocate_with (from tensorflow.python.framework.ops) is deprecated and will be removed in a future version.\n",
            "Instructions for updating:\n",
            "Colocations handled automatically by placer.\n",
            "WARNING:tensorflow:From /usr/local/lib/python3.6/dist-packages/tensorflow/python/ops/math_ops.py:3066: to_int32 (from tensorflow.python.ops.math_ops) is deprecated and will be removed in a future version.\n",
            "Instructions for updating:\n",
            "Use tf.cast instead.\n"
          ],
          "name": "stdout"
        }
      ]
    },
    {
      "metadata": {
        "id": "6TcBw8dj-hNR",
        "colab_type": "code",
        "colab": {}
      },
      "cell_type": "code",
      "source": [
        "X_test_ex = X_test[0]\n",
        "y_test_ex = y_test[0]"
      ],
      "execution_count": 0,
      "outputs": []
    },
    {
      "metadata": {
        "id": "GaU5op6k-hNV",
        "colab_type": "code",
        "outputId": "a3e061f9-c162-44b2-96c4-c218a6b962f3",
        "colab": {
          "base_uri": "https://localhost:8080/",
          "height": 138
        }
      },
      "cell_type": "code",
      "source": [
        "plt.subplot(331)\n",
        "plt.imshow(X_test_ex)\n",
        "plt.show()"
      ],
      "execution_count": 0,
      "outputs": [
        {
          "output_type": "display_data",
          "data": {
            "image/png": "[encoded data removed]",
            "text/plain": [
              "<Figure size 576x396 with 1 Axes>"
            ]
          },
          "metadata": {
            "tags": []
          }
        }
      ]
    },
    {
      "metadata": {
        "id": "7xn0DcXn-hNX",
        "colab_type": "code",
        "outputId": "6b03f62f-11ec-4ddd-fd90-db3201bee62a",
        "colab": {
          "base_uri": "https://localhost:8080/",
          "height": 34
        }
      },
      "cell_type": "code",
      "source": [
        "X_test_ex.shape"
      ],
      "execution_count": 0,
      "outputs": [
        {
          "output_type": "execute_result",
          "data": {
            "text/plain": [
              "(32, 32, 3)"
            ]
          },
          "metadata": {
            "tags": []
          },
          "execution_count": 33
        }
      ]
    },
    {
      "metadata": {
        "id": "CxTTj6duS4T2",
        "colab_type": "code",
        "colab": {}
      },
      "cell_type": "code",
      "source": [
        "X_test_ex = np.expand_dims(X_test_ex, axis=0)"
      ],
      "execution_count": 0,
      "outputs": []
    },
    {
      "metadata": {
        "id": "auGown_6-hNc",
        "colab_type": "code",
        "colab": {}
      },
      "cell_type": "code",
      "source": [
        "# y_test_ex_pred = classifier.predict_classes([X_test_ex])\n",
        "y_test_ex_pred = classifier.predict([X_test_ex])"
      ],
      "execution_count": 0,
      "outputs": []
    },
    {
      "metadata": {
        "id": "Qqfizju8-hNf",
        "colab_type": "code",
        "outputId": "ad48fa20-c9ea-4ea3-ca3b-da3b3691fa6b",
        "colab": {
          "base_uri": "https://localhost:8080/",
          "height": 68
        }
      },
      "cell_type": "code",
      "source": [
        "print('y_pred_ex = ' + str(y_test_ex))\n",
        "print('y_pred_ex_pred = ' + str(y_test_ex_pred))"
      ],
      "execution_count": 0,
      "outputs": [
        {
          "output_type": "stream",
          "text": [
            "y_pred_ex = [0. 0. 0. 1. 0. 0. 0. 0. 0. 0.]\n",
            "y_pred_ex_pred = [[1.6983778e-13 3.8873346e-10 8.4751771e-16 9.9999988e-01 2.2266162e-16\n",
            "  1.8693065e-09 1.5107287e-07 3.9016667e-16 1.7777089e-14 8.6213779e-12]]\n"
          ],
          "name": "stdout"
        }
      ]
    },
    {
      "metadata": {
        "id": "hYWq5EfO-hNl",
        "colab_type": "code",
        "outputId": "0e467bb6-5860-4788-a046-96e45deb5f66",
        "colab": {
          "base_uri": "https://localhost:8080/",
          "height": 34
        }
      },
      "cell_type": "code",
      "source": [
        "print(y_test_ex)"
      ],
      "execution_count": 0,
      "outputs": [
        {
          "output_type": "stream",
          "text": [
            "[0. 0. 0. 1. 0. 0. 0. 0. 0. 0.]\n"
          ],
          "name": "stdout"
        }
      ]
    },
    {
      "metadata": {
        "id": "lr_nFNzQPO9x",
        "colab_type": "code",
        "outputId": "871b7e44-37ae-42da-d5b0-3cac2af8a34b",
        "colab": {
          "base_uri": "https://localhost:8080/",
          "height": 34
        }
      },
      "cell_type": "code",
      "source": [
        "print(np.argmax(y_test_ex_pred))"
      ],
      "execution_count": 0,
      "outputs": [
        {
          "output_type": "stream",
          "text": [
            "3\n"
          ],
          "name": "stdout"
        }
      ]
    }
  ]
}